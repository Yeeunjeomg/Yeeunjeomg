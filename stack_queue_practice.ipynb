{
  "cells": [
    {
      "cell_type": "markdown",
      "metadata": {},
      "source": [
        "## 1.1 LeetCode 225: Implement Stack using Queues\n",
        "큐를 사용하여 스택을 구현하는 문제입니다. 큐의 FIFO 속성을 활용하여 요소를 삽입(push)할 때 회전시킴으로써 스택의 LIFO 동작을 흉내냅니다."
      ]
    },
    {
      "cell_type": "code",
      "execution_count": null,
      "metadata": {},
      "outputs": [],
      "source": [
        "from collections import deque\n",
        "\n",
        "class MyStack:\n",
        "    def __init__(self):\n",
        "        self.q = deque()\n",
        "\n",
        "    def push(self, x: int) -> None:\n",
        "        self.q.append(x)\n",
        "        for _ in range(len(self.q) - 1):\n",
        "            self.q.append(self.q.popleft())\n",
        "\n",
        "    def pop(self) -> int:\n",
        "        return self.q.popleft()\n",
        "\n",
        "    def top(self) -> int:\n",
        "        return self.q[0]\n",
        "\n",
        "    def empty(self) -> bool:\n",
        "        return len(self.q) == 0"
      ]
    },
    {
      "cell_type": "markdown",
      "metadata": {},
      "source": [
        "## 1.2 LeetCode 232: Implement Queue using Stacks\n",
        "스택을 사용하여 큐를 구현합니다. `in_stack`과 `out_stack` 두 개의 스택을 이용하여 요소를 반대로 뒤집는 방식으로 FIFO 구현합니다."
      ]
    },
    {
      "cell_type": "code",
      "execution_count": null,
      "metadata": {},
      "outputs": [],
      "source": [
        "class MyQueue:\n",
        "    def __init__(self):\n",
        "        self.in_stack = []\n",
        "        self.out_stack = []\n",
        "\n",
        "    def push(self, x: int) -> None:\n",
        "        self.in_stack.append(x)\n",
        "\n",
        "    def pop(self) -> int:\n",
        "        self.peek()\n",
        "        return self.out_stack.pop()\n",
        "\n",
        "    def peek(self) -> int:\n",
        "        if not self.out_stack:\n",
        "            while self.in_stack:\n",
        "                self.out_stack.append(self.in_stack.pop())\n",
        "        return self.out_stack[-1]\n",
        "\n",
        "    def empty(self) -> bool:\n",
        "        return not self.in_stack and not self.out_stack"
      ]
    },
    {
      "cell_type": "markdown",
      "metadata": {},
      "source": [
        "## 1.3 큐 연습문제 풀이\n",
        "### 1.3.1 연습문제 1번: front와 tail을 반대로 구현한 ListQueue\n",
        "`insert(0, x)`를 사용하여 front 위치를 리스트 끝으로 구현했습니다."
      ]
    },
    {
      "cell_type": "code",
      "execution_count": null,
      "metadata": {},
      "outputs": [],
      "source": [
        "class ListQueue:\n",
        "    def __init__(self):\n",
        "        self._queue = []\n",
        "    def enqueue(self, x):\n",
        "        self._queue.insert(0, x)\n",
        "    def dequeue(self):\n",
        "        return self._queue.pop()\n",
        "    def front(self):\n",
        "        return self._queue[-1]\n",
        "    def isEmpty(self):\n",
        "        return len(self._queue) == 0\n",
        "    def dequeueAll(self):\n",
        "        self._queue.clear()"
      ]
    },
    {
      "cell_type": "markdown",
      "metadata": {},
      "source": [
        "### 1.3.2 연습문제 2번: 회문 인식 함수 (Palindrome)\n",
        "스택과 큐를 이용하여 문자열이 앞뒤로 같은지 판단합니다."
      ]
    },
    {
      "cell_type": "code",
      "execution_count": null,
      "metadata": {},
      "outputs": [],
      "source": [
        "class ListStack:\n",
        "    def __init__(self): self._stack = []\n",
        "    def push(self, item): self._stack.append(item)\n",
        "    def pop(self): return self._stack.pop()\n",
        "    def isEmpty(self): return not self._stack\n",
        "\n",
        "class ListQueue:\n",
        "    def __init__(self): self._queue = []\n",
        "    def enqueue(self, item): self._queue.append(item)\n",
        "    def dequeue(self): return self._queue.pop(0)\n",
        "    def isEmpty(self): return not self._queue\n",
        "\n",
        "def isPalindrome(s):\n",
        "    st = ListStack()\n",
        "    q = ListQueue()\n",
        "    for ch in s:\n",
        "        st.push(ch)\n",
        "        q.enqueue(ch)\n",
        "    while not st.isEmpty():\n",
        "        if st.pop() != q.dequeue():\n",
        "            return False\n",
        "    return True\n",
        "\n",
        "print(isPalindrome(\"racecar\"))  # True"
      ]
    },
    {
      "cell_type": "markdown",
      "metadata": {},
      "source": [
        "### 1.3.3 연습문제 3번: 얕은 복사 vs 깊은 복사 (LinkedQueue)"
      ]
    },
    {
      "cell_type": "code",
      "execution_count": null,
      "metadata": {},
      "outputs": [],
      "source": [
        "class Node:\n",
        "    def __init__(self, item, link=None):\n",
        "        self.item = item\n",
        "        self.link = link\n",
        "\n",
        "class LinkedQueue:\n",
        "    def __init__(self):\n",
        "        self.front = None\n",
        "        self.rear = None\n",
        "\n",
        "    def isEmpty(self): return self.front is None\n",
        "\n",
        "    def enqueue(self, item):\n",
        "        new_node = Node(item)\n",
        "        if self.isEmpty():\n",
        "            self.front = self.rear = new_node\n",
        "        else:\n",
        "            self.rear.link = new_node\n",
        "            self.rear = new_node\n",
        "\n",
        "    def dequeue(self):\n",
        "        if not self.isEmpty():\n",
        "            item = self.front.item\n",
        "            self.front = self.front.link\n",
        "            if self.front is None:\n",
        "                self.rear = None\n",
        "            return item\n",
        "\n",
        "def shallow_copy(queue):\n",
        "    return queue\n",
        "\n",
        "def deep_copy(queue):\n",
        "    copied = LinkedQueue()\n",
        "    current = queue.front\n",
        "    while current:\n",
        "        copied.enqueue(current.item)\n",
        "        current = current.link\n",
        "    return copied"
      ]
    },
    {
      "cell_type": "markdown",
      "metadata": {},
      "source": [
        "### 1.3.4 연습문제 4번: 큐 2개로 스택 구현\n",
        "`push` 시 새로운 큐에 먼저 넣고 기존 큐를 뒤에 붙여 스택의 LIFO 순서 유지"
      ]
    },
    {
      "cell_type": "code",
      "execution_count": null,
      "metadata": {},
      "outputs": [],
      "source": [
        "class TwoQueueStack:\n",
        "    def __init__(self):\n",
        "        self.q1 = deque()\n",
        "        self.q2 = deque()\n",
        "\n",
        "    def push(self, x):\n",
        "        self.q2.append(x)\n",
        "        while self.q1:\n",
        "            self.q2.append(self.q1.popleft())\n",
        "        self.q1, self.q2 = self.q2, self.q2.clear()\n",
        "\n",
        "    def pop(self):\n",
        "        return self.q1.popleft()"
      ]
    },
    {
      "cell_type": "markdown",
      "metadata": {},
      "source": [
        "### 1.3.5 연습문제 5번: 큐 2개로 큐 구현 (비효율적 방식)\n",
        "`enqueue` 시 매번 전체 요소를 옮겨야 하므로 비효율적입니다."
      ]
    },
    {
      "cell_type": "code",
      "execution_count": null,
      "metadata": {},
      "outputs": [],
      "source": [
        "class InefficientQueue:\n",
        "    def __init__(self):\n",
        "        self.q1 = []\n",
        "        self.q2 = []\n",
        "\n",
        "    def enqueue(self, x):\n",
        "        while self.q1:\n",
        "            self.q2.append(self.q1.pop())\n",
        "        self.q1.append(x)\n",
        "        while self.q2:\n",
        "            self.q1.append(self.q2.pop())\n",
        "\n",
        "    def dequeue(self):\n",
        "        return self.q1.pop()"
      ]
    },
    {
      "cell_type": "markdown",
      "metadata": {},
      "source": [
        "### 1.3.6 연습문제 6번: 리스트로 큐 구현 시 시간복잡도\n",
        "`pop(0)`은 O(n) 시간 소요, 비효율적입니다."
      ]
    },
    {
      "cell_type": "code",
      "execution_count": null,
      "metadata": {},
      "outputs": [],
      "source": [
        "# 리스트 pop(0): O(n), append: O(1)"
      ]
    },
    {
      "cell_type": "markdown",
      "metadata": {},
      "source": [
        "### 1.3.7 연습문제 7번: 연결 리스트 기반 큐의 시간복잡도\n",
        "`enqueue`, `dequeue` 모두 O(1)로 효율적입니다."
      ]
    },
    {
      "cell_type": "code",
      "execution_count": null,
      "metadata": {},
      "outputs": [],
      "source": [
        "# 연결 리스트 기반 큐: O(1) 시간 복잡도"
      ]
    },
    {
      "cell_type": "markdown",
      "metadata": {},
      "source": [
        "### 1.3.8 연습문제 8번: Deque 클래스 구현\n",
        "양쪽에서 삽입/삭제가 가능한 큐 구조입니다."
      ]
    },
    {
      "cell_type": "code",
      "execution_count": null,
      "metadata": {},
      "outputs": [],
      "source": [
        "class Deque(ListQueue):\n",
        "    def addFront(self, x):\n",
        "        self._queue.insert(0, x)\n",
        "    def deleteRear(self):\n",
        "        return self._queue.pop()\n",
        "    def deleteFront(self):\n",
        "        return self._queue.pop(0)\n",
        "    def addRear(self, x):\n",
        "        self._queue.append(x)"
      ]
    }
  ],
  "metadata": {
    "kernelspec": {
      "display_name": "Python 3",
      "language": "python",
      "name": "python3"
    },
    "language_info": {
      "name": "python"
    }
  },
  "nbformat": 4,
  "nbformat_minor": 2
}

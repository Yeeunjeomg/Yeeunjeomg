{
 "cells": [
  {
   "cell_type": "markdown",
   "metadata": {},
   "source": [
    "# LeetCode 225: Implement Stack using Queues"
   ]
  },
  {
   "cell_type": "code",
   "metadata": {},
   "source": [
    "from collections import deque\n",
    "\n",
    "class MyStack:\n",
    "    def __init__(self):\n",
    "        self.q = deque()\n",
    "\n",
    "    def push(self, x: int) -> None:\n",
    "        self.q.append(x)\n",
    "        for _ in range(len(self.q) - 1):\n",
    "            self.q.append(self.q.popleft())\n",
    "\n",
    "    def pop(self) -> int:\n",
    "        return self.q.popleft()\n",
    "\n",
    "    def top(self) -> int:\n",
    "        return self.q[0]\n",
    "\n",
    "    def empty(self) -> bool:\n",
    "        return len(self.q) == 0"
   ],
   "execution_count": null,
   "outputs": []
  },
  {
   "cell_type": "markdown",
   "metadata": {},
   "source": [
    "# LeetCode 232: Implement Queue using Stacks"
   ]
  },
  {
   "cell_type": "code",
   "metadata": {},
   "source": [
    "class MyQueue:\n",
    "    def __init__(self):\n",
    "        self.in_stack = []\n",
    "        self.out_stack = []\n",
    "\n",
    "    def push(self, x: int) -> None:\n",
    "        self.in_stack.append(x)\n",
    "\n",
    "    def pop(self) -> int:\n",
    "        self.peek()\n",
    "        return self.out_stack.pop()\n",
    "\n",
    "    def peek(self) -> int:\n",
    "        if not self.out_stack:\n",
    "            while self.in_stack:\n",
    "                self.out_stack.append(self.in_stack.pop())\n",
    "        return self.out_stack[-1]\n",
    "\n",
    "    def empty(self) -> bool:\n",
    "        return not self.in_stack and not self.out_stack"
   ],
   "execution_count": null,
   "outputs": []
  },
  {
   "cell_type": "markdown",
   "metadata": {},
   "source": [
    "# 연습문제 풀이 (1번 ~ 8번)"
   ]
  },
  {
   "cell_type": "code",
   "metadata": {},
   "source": [
    "# 1번 - listQueue.py에서 front와 tail2 반대로 구현하기\n",
    "class ListQueue:\n",
    "    def __init__(self):\n",
    "        self._queue = []\n",
    "\n",
    "    def enqueue(self, x):\n",
    "        self._queue.insert(0, x)\n",
    "\n",
    "    def dequeue(self):\n",
    "        return self._queue.pop()\n",
    "\n",
    "    def front(self):\n",
    "        return self._queue[-1]\n",
    "\n",
    "    def isEmpty(self):\n",
    "        return len(self._queue) == 0\n",
    "\n",
    "    def dequeueAll(self):\n",
    "        self._queue.clear()"
   ],
   "execution_count": null,
   "outputs": []
  },
  {
   "cell_type": "code",
   "metadata": {},
   "source": [
    "# 2번 - 회문 인식 코드\n",
    "from DS.stack.ListStack import *\n",
    "from DS.queue.ListQueue import *\n",
    "\n",
    "def isPalindrome(s):\n",
    "    st = ListStack()\n",
    "    q = ListQueue()\n",
    "    for ch in s:\n",
    "        st.push(ch)\n",
    "        q.enqueue(ch)\n",
    "    while not st.isEmpty():\n",
    "        if st.pop() != q.dequeue():\n",
    "            return False\n",
    "    return True\n",
    "\n",
    "print(isPalindrome('wow'))"
   ],
   "execution_count": null,
   "outputs": []
  },
  {
   "cell_type": "code",
   "metadata": {},
   "source": [
    "# 3번 - LinkedQueue 얕은 복사 vs 깊은 복사 설명\n",
    "# 얕은 복사는 노드들이 공유되고, 깊은 복사는 노드를 새로 생성합니다.\n",
    "# deepcopy()를 사용하면 깊은 복사가 가능합니다."
   ],
   "execution_count": null,
   "outputs": []
  },
  {
   "cell_type": "code",
   "metadata": {},
   "source": [
    "# 4번 - 큐 2개로 스택 구현\n",
    "class TwoQueueStack:\n",
    "    def __init__(self):\n",
    "        self.q1 = deque()\n",
    "        self.q2 = deque()\n",
    "\n",
    "    def push(self, x):\n",
    "        self.q2.append(x)\n",
    "        while self.q1:\n",
    "            self.q2.append(self.q1.popleft())\n",
    "        self.q1, self.q2 = self.q2, self.q1\n",
    "\n",
    "    def pop(self):\n",
    "        return self.q1.popleft()"
   ],
   "execution_count": null,
   "outputs": []
  },
  {
   "cell_type": "code",
   "metadata": {},
   "source": [
    "# 5번 - 큐 2개로 queue 구현 (비효율적 방법)\n",
    "class InefficientQueue:\n",
    "    def __init__(self):\n",
    "        self.q1 = []\n",
    "        self.q2 = []\n",
    "\n",
    "    def enqueue(self, x):\n",
    "        while self.q1:\n",
    "            self.q2.append(self.q1.pop())\n",
    "        self.q1.append(x)\n",
    "        while self.q2:\n",
    "            self.q1.append(self.q2.pop())\n",
    "\n",
    "    def dequeue(self):\n",
    "        return self.q1.pop()"
   ],
   "execution_count": null,
   "outputs": []
  },
  {
   "cell_type": "code",
   "metadata": {},
   "source": [
    "# 6번 - 큐에서 enqueue는 뒤, dequeue는 앞에서! 리스트로 구현할 때 시간 복잡도는?\n",
    "# 리스트의 pop(0)은 O(n), append는 O(1)이므로 dequeue가 비효율적입니다."
   ],
   "execution_count": null,
   "outputs": []
  },
  {
   "cell_type": "code",
   "metadata": {},
   "source": [
    "# 7번 - 연결 리스트 기반 큐의 시간 복잡도 분석\n",
    "# enqueue(), dequeue() 모두 O(1)입니다 (양방향 연결 리스트일 경우)."
   ],
   "execution_count": null,
   "outputs": []
  },
  {
   "cell_type": "code",
   "metadata": {},
   "source": [
    "# 8번 - Deque 클래스 구현 추가\n",
    "class Deque(ListQueue):\n",
    "    def addFront(self, x):\n",
    "        self._queue.insert(0, x)\n",
    "\n",
    "    def deleteRear(self):\n",
    "        return self._queue.pop()\n",
    "\n",
    "    def deleteFront(self):\n",
    "        return self._queue.pop(0)\n",
    "\n",
    "    def addRear(self, x):\n",
    "        self._queue.append(x)"
   ],
   "execution_count": null,
   "outputs": []
  }
 ],
 "metadata": {
  "kernelspec": {
   "display_name": "Python 3",
   "language": "python",
   "name": "python3"
  },
  "language_info": {
   "name": "python"
  }
 },
 "nbformat": 4,
 "nbformat_minor": 2
}

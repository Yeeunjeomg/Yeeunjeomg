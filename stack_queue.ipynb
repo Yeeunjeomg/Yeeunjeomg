{
 "cells": [
  {
   "cell_type": "markdown",
   "metadata": {},
   "source": [
    "# 자료구조 연습 - 스택과 큐 구현"
   ]
  },
  {
   "cell_type": "markdown",
   "metadata": {},
   "source": [
    "## LeetCode 225: Queue를 사용한 Stack 구현"
   ]
  },
  {
   "cell_type": "code",
   "metadata": {},
   "source": [
    "from collections import deque\n",
    "\n",
    "class MyStack:\n",
    "    def __init__(self):\n",
    "        self.q = deque()\n",
    "\n",
    "    def push(self, x: int) -> None:\n",
    "        self.q.append(x)\n",
    "        for _ in range(len(self.q) - 1):\n",
    "            self.q.append(self.q.popleft())\n",
    "\n",
    "    def pop(self) -> int:\n",
    "        return self.q.popleft()\n",
    "\n",
    "    def top(self) -> int:\n",
    "        return self.q[0]\n",
    "\n",
    "    def empty(self) -> bool:\n",
    "        return len(self.q) == 0"
   ],
   "execution_count": null,
   "outputs": []
  },
  {
   "cell_type": "markdown",
   "metadata": {},
   "source": [
    "## LeetCode 232: Stack을 사용한 Queue 구현"
   ]
  },
  {
   "cell_type": "code",
   "metadata": {},
   "source": [
    "class MyQueue:\n",
    "    def __init__(self):\n",
    "        self.in_stack = []\n",
    "        self.out_stack = []\n",
    "\n",
    "    def push(self, x: int) -> None:\n",
    "        self.in_stack.append(x)\n",
    "\n",
    "    def pop(self) -> int:\n",
    "        self.peek()\n",
    "        return self.out_stack.pop()\n",
    "\n",
    "    def peek(self) -> int:\n",
    "        if not self.out_stack:\n",
    "            while self.in_stack:\n",
    "                self.out_stack.append(self.in_stack.pop())\n",
    "        return self.out_stack[-1]\n",
    "\n",
    "    def empty(self) -> bool:\n",
    "        return not self.in_stack and not self.out_stack"
   ],
   "execution_count": null,
   "outputs": []
  },

  {
   "cell_type": "markdown",
   "metadata": {},
   "source": [
    "## 연습문제 1번: ListQueue에서 front와 tail 반대로 구현"
   ]
  },
  {
   "cell_type": "code",
   "metadata": {},
   "source": [
    "class ListQueue:\n",
    "    def __init__(self):\n",
    "        self._queue = []\n",
    "\n",
    "    def enqueue(self, x):\n",
    "        self._queue.insert(0, x)\n",
    "\n",
    "    def dequeue(self):\n",
    "        return self._queue.pop()\n",
    "\n",
    "    def front(self):\n",
    "        return self._queue[-1]\n",
    "\n",
    "    def isEmpty(self):\n",
    "        return len(self._queue) == 0\n",
    "\n",
    "    def dequeueAll(self):\n",
    "        self._queue.clear()"
   ],
   "execution_count": null,
   "outputs": []
  },

  {
   "cell_type": "markdown",
   "metadata": {},
   "source": [
    "## 연습문제 2번: 회문 인식 함수 (Palindrome)"
   ]
  },
  {
   "cell_type": "code",
   "metadata": {},
   "source": [
    "class ListStack:\n",
    "    def __init__(self): self._stack = []\n",
    "    def push(self, item): self._stack.append(item)\n",
    "    def pop(self): return self._stack.pop()\n",
    "    def isEmpty(self): return not self._stack\n",
    "\n",
    "class ListQueue:\n",
    "    def __init__(self): self._queue = []\n",
    "    def enqueue(self, item): self._queue.append(item)\n",
    "    def dequeue(self): return self._queue.pop(0)\n",
    "    def isEmpty(self): return not self._queue\n",
    "\n",
    "def isPalindrome(s):\n",
    "    st = ListStack()\n",
    "    q = ListQueue()\n",
    "    for ch in s:\n",
    "        st.push(ch)\n",
    "        q.enqueue(ch)\n",
    "    while not st.isEmpty():\n",
    "        if st.pop() != q.dequeue():\n",
    "            return False\n",
    "    return True\n",
    "\n",
    "print(isPalindrome(\"wow\"))"
   ],
   "execution_count": null,
   "outputs": []
  },

  {
   "cell_type": "markdown",
   "metadata": {},
   "source": [
    "## 연습문제 3번: 얕은 복사 vs 깊은 복사 (LinkedQueue)"
   ]
  },
  {
   "cell_type": "code",
   "metadata": {},
   "source": [
    "class Node:\n",
    "    def __init__(self, item, link=None):\n",
    "        self.item = item\n",
    "        self.link = link\n",
    "\n",
    "class LinkedQueue:\n",
    "    def __init__(self):\n",
    "        self.front = None\n",
    "        self.rear = None\n",
    "\n",
    "    def isEmpty(self): return self.front is None\n",
    "\n",
    "    def enqueue(self, item):\n",
    "        new_node = Node(item)\n",
    "        if self.isEmpty():\n",
    "            self.front = self.rear = new_node\n",
    "        else:\n",
    "            self.rear.link = new_node\n",
    "            self.rear = new_node\n",
    "\n",
    "    def dequeue(self):\n",
    "        if not self.isEmpty():\n",
    "            item = self.front.item\n",
    "            self.front = self.front.link\n",
    "            if self.front is None:\n",
    "                self.rear = None\n",
    "            return item\n",
    "\n",
    "def shallow_copy(queue):\n",
    "    return queue\n",
    "\n",
    "def deep_copy(queue):\n",
    "    copied = LinkedQueue()\n",
    "    current = queue.front\n",
    "    while current:\n",
    "        copied.enqueue(current.item)\n",
    "        current = current.link\n",
    "    return copied"
   ],
   "execution_count": null,
   "outputs": []
  },

  {
   "cell_type": "markdown",
   "metadata": {},
   "source": [
    "## 연습문제 4번: 큐 2개로 스택 구현"
   ]
  },
  {
   "cell_type": "code",
   "metadata": {},
   "source": [
    "class TwoQueueStack:\n",
    "    def __init__(self):\n",
    "        self.q1 = deque()\n",
    "        self.q2 = deque()\n",
    "\n",
    "    def push(self, x):\n",
    "        self.q2.append(x)\n",
    "        while self.q1:\n",
    "            self.q2.append(self.q1.popleft())\n",
    "        self.q1, self.q2 = self.q2, self.q1\n",
    "\n",
    "    def pop(self):\n",
    "        return self.q1.popleft()"
   ],
   "execution_count": null,
   "outputs": []
  },

  {
   "cell_type": "markdown",
   "metadata": {},
   "source": [
    "## 연습문제 5번: 큐 2개로 큐 구현 (비효율적 방법)"
   ]
  },
  {
   "cell_type": "code",
   "metadata": {},
   "source": [
    "class InefficientQueue:\n",
    "    def __init__(self):\n",
    "        self.q1 = []\n",
    "        self.q2 = []\n",
    "\n",
    "    def enqueue(self, x):\n",
    "        while self.q1:\n",
    "            self.q2.append(self.q1.pop())\n",
    "        self.q1.append(x)\n",
    "        while self.q2:\n",
    "            self.q1.append(self.q2.pop())\n",
    "\n",
    "    def dequeue(self):\n",
    "        return self.q1.pop()"
   ],
   "execution_count": null,
   "outputs": []
  },

  {
   "cell_type": "markdown",
   "metadata": {},
   "source": [
    "## 연습문제 6번: 리스트로 큐 구현 시 시간복잡도"
   ]
  },
  {
   "cell_type": "code",
   "metadata": {},
   "source": [
    "# list의 pop(0)은 O(n), append는 O(1) -> dequeue 시 비효율적"
   ],
   "execution_count": null,
   "outputs": []
  },

  {
   "cell_type": "markdown",
   "metadata": {},
   "source": [
    "## 연습문제 7번: 연결 리스트 기반 큐의 시간복잡도"
   ]
  },
  {
   "cell_type": "code",
   "metadata": {},
   "source": [
    "# enqueue(), dequeue() 모두 O(1)"
   ],
   "execution_count": null,
   "outputs": []
  },

  {
   "cell_type": "markdown",
   "metadata": {},
   "source": [
    "## 연습문제 8번: Deque 클래스 구현"
   ]
  },
  {
   "cell_type": "code",
   "metadata": {},
   "source": [
    "class Deque(ListQueue):\n",
    "    def addFront(self, x):\n",
    "        self._queue.insert(0, x)\n",
    "\n",
    "    def deleteRear(self):\n",
    "        return self._queue.pop()\n",
    "\n",
    "    def deleteFront(self):\n",
    "        return self._queue.pop(0)\n",
    "\n",
    "    def addRear(self, x):\n",
    "        self._queue.append(x)"
   ],
   "execution_count": null,
   "outputs": []
  }
 ],
 "metadata": {
  "kernelspec": {
   "display_name": "Python 3",
   "language": "python",
   "name": "python3"
  },
  "language_info": {
   "name": "python"
  }
 },
 "nbformat": 4,
 "nbformat_minor": 2
}

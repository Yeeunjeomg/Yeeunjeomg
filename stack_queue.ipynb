{
  "cells": [
    {
      "cell_type": "markdown",
      "metadata": {},
      "source": [
        "# LeetCode 225: Implement Stack using Queues\n",
        "이 문제는 큐(Queue)를 이용해 스택(Stack)을 구현하는 문제입니다.\n",
        "\n",
        "스택은 LIFO(Last-In-First-Out) 구조이며, 큐는 FIFO(First-In-First-Out) 구조입니다. \n",
        "이를 감안하여 큐의 동작을 활용해 스택을 흉내내야 합니다."
      ]
    },
    {
      "cell_type": "code",
      "execution_count": null,
      "metadata": {},
      "outputs": [],
      "source": [
        "from collections import deque\n",
        "\n",
        "class MyStack:\n",
        "    def __init__(self):\n",
        "        self.q = deque()\n",
        "\n",
        "    def push(self, x: int) -> None:\n",
        "        self.q.append(x)\n",
        "        for _ in range(len(self.q) - 1):\n",
        "            self.q.append(self.q.popleft())\n",
        "\n",
        "    def pop(self) -> int:\n",
        "        return self.q.popleft()\n",
        "\n",
        "    def top(self) -> int:\n",
        "        return self.q[0]\n",
        "\n",
        "    def empty(self) -> bool:\n",
        "        return len(self.q) == 0"
      ]
    },
    {
      "cell_type": "markdown",
      "metadata": {},
      "source": [
        "---\n",
        "# LeetCode 232: Implement Queue using Stacks\n",
        "이번 문제는 스택(Stack)을 사용하여 큐(Queue)를 구현하는 것입니다.\n",
        "\n",
        "스택은 LIFO 구조인데, 이를 활용해서 FIFO 구조인 큐를 흉내내는 것이 핵심입니다.\n",
        "두 개의 스택을 이용하면 큐의 앞/뒤 순서를 제어할 수 있습니다."
      ]
    },
    {
      "cell_type": "code",
      "execution_count": null,
      "metadata": {},
      "outputs": [],
      "source": [
        "class MyQueue:\n",
        "    def __init__(self):\n",
        "        self.in_stack = []\n",
        "        self.out_stack = []\n",
        "\n",
        "    def push(self, x: int) -> None:\n",
        "        self.in_stack.append(x)\n",
        "\n",
        "    def pop(self) -> int:\n",
        "        self.peek()\n",
        "        return self.out_stack.pop()\n",
        "\n",
        "    def peek(self) -> int:\n",
        "        if not self.out_stack:\n",
        "            while self.in_stack:\n",
        "                self.out_stack.append(self.in_stack.pop())\n",
        "        return self.out_stack[-1]\n",
        "\n",
        "    def empty(self) -> bool:\n",
        "        return not self.in_stack and not self.out_stack"
      ]
    },
    {
      "cell_type": "markdown",
      "metadata": {},
      "source": [
        "## 연습문제 1번: ListQueue에서 front와 tail 반대로 구현"
      ]
    },
    {
      "cell_type": "code",
      "execution_count": null,
      "metadata": {},
      "outputs": [],
      "source": [
        "class ListQueue:\n",
        "    def __init__(self):\n",
        "        self._queue = []\n",
        "\n",
        "    def enqueue(self, x):\n",
        "        self._queue.insert(0, x)\n",
        "\n",
        "    def dequeue(self):\n",
        "        return self._queue.pop()\n",
        "\n",
        "    def front(self):\n",
        "        return self._queue[-1]\n",
        "\n",
        "    def isEmpty(self):\n",
        "        return len(self._queue) == 0\n",
        "\n",
        "    def dequeueAll(self):\n",
        "        self._queue.clear()"
      ]
    },
    {
      "cell_type": "markdown",
      "metadata": {},
      "source": [
        "## 연습문제 2번: 회문 인식 함수 (Palindrome)"
      ]
    },
    {
      "cell_type": "code",
      "execution_count": null,
      "metadata": {},
      "outputs": [],
      "source": [
        "class ListStack:\n",
        "    def __init__(self): self._stack = []\n",
        "    def push(self, item): self._stack.append(item)\n",
        "    def pop(self): return self._stack.pop()\n",
        "    def isEmpty(self): return not self._stack\n",
        "\n",
        "class ListQueue:\n",
        "    def __init__(self): self._queue = []\n",
        "    def enqueue(self, item): self._queue.append(item)\n",
        "    def dequeue(self): return self._queue.pop(0)\n",
        "    def isEmpty(self): return not self._queue\n",
        "\n",
        "def isPalindrome(s):\n",
        "    st = ListStack()\n",
        "    q = ListQueue()\n",
        "    for ch in s:\n",
        "        st.push(ch)\n",
        "        q.enqueue(ch)\n",
        "    while not st.isEmpty():\n",
        "        if st.pop() != q.dequeue():\n",
        "            return False\n",
        "    return True\n",
        "\n",
        "print(isPalindrome(\"wow\"))"
      ]
    },
    {
      "cell_type": "markdown",
      "metadata": {},
      "source": [
        "## 연습문제 3번: 얕은 복사 vs 깊은 복사 (LinkedQueue)"
      ]
    },
    {
      "cell_type": "code",
      "execution_count": null,
      "metadata": {},
      "outputs": [],
      "source": [
        "class Node:\n",
        "    def __init__(self, item, link=None):\n",
        "        self.item = item\n",
        "        self.link = link\n",
        "\n",
        "class LinkedQueue:\n",
        "    def __init__(self):\n",
        "        self.front = None\n",
        "        self.rear = None\n",
        "\n",
        "    def isEmpty(self): return self.front is None\n",
        "\n",
        "    def enqueue(self, item):\n",
        "        new_node = Node(item)\n",
        "        if self.isEmpty():\n",
        "            self.front = self.rear = new_node\n",
        "        else:\n",
        "            self.rear.link = new_node\n",
        "            self.rear = new_node\n",
        "\n",
        "    def dequeue(self):\n",
        "        if not self.isEmpty():\n",
        "            item = self.front.item\n",
        "            self.front = self.front.link\n",
        "            if self.front is None:\n",
        "                self.rear = None\n",
        "            return item\n",
        "\n",
        "def shallow_copy(queue):\n",
        "    return queue\n",
        "\n",
        "def deep_copy(queue):\n",
        "    copied = LinkedQueue()\n",
        "    current = queue.front\n",
        "    while current:\n",
        "        copied.enqueue(current.item)\n",
        "        current = current.link\n",
        "    return copied"
      ]
    },
    {
      "cell_type": "markdown",
      "metadata": {},
      "source": [
        "## 연습문제 4번: 큐 2개로 스택 구현"
      ]
    },
    {
      "cell_type": "code",
      "execution_count": null,
      "metadata": {},
      "outputs": [],
      "source": [
        "class TwoQueueStack:\n",
        "    def __init__(self):\n",
        "        self.q1 = deque()\n",
        "        self.q2 = deque()\n",
        "\n",
        "    def push(self, x):\n",
        "        self.q2.append(x)\n",
        "        while self.q1:\n",
        "            self.q2.append(self.q1.popleft())\n",
        "        self.q1, self.q2 = self.q2, self.q1\n",
        "\n",
        "    def pop(self):\n",
        "        return self.q1.popleft()"
      ]
    },
    {
      "cell_type": "markdown",
      "metadata": {},
      "source": [
        "## 연습문제 5번: 큐 2개로 큐 구현 (비효율적 방법)"
      ]
    },
    {
      "cell_type": "code",
      "execution_count": null,
      "metadata": {},
      "outputs": [],
      "source": [
        "class InefficientQueue:\n",
        "    def __init__(self):\n",
        "        self.q1 = []\n",
        "        self.q2 = []\n",
        "\n",
        "    def enqueue(self, x):\n",
        "        while self.q1:\n",
        "            self.q2.append(self.q1.pop())\n",
        "        self.q1.append(x)\n",
        "        while self.q2:\n",
        "            self.q1.append(self.q2.pop())\n",
        "\n",
        "    def dequeue(self):\n",
        "        return self.q1.pop()"
      ]
    },
    {
      "cell_type": "markdown",
      "metadata": {},
      "source": [
        "## 연습문제 6번: 리스트로 큐 구현 시 시간복잡도"
      ]
    },
    {
      "cell_type": "code",
      "execution_count": null,
      "metadata": {},
      "outputs": [],
      "source": [
        "# list의 pop(0)은 O(n), append는 O(1) -> dequeue 시 비효율적"
      ]
    },
    {
      "cell_type": "markdown",
      "metadata": {},
      "source": [
        "## 연습문제 7번: 연결 리스트 기반 큐의 시간복잡도"
      ]
    },
    {
      "cell_type": "code",
      "execution_count": null,
      "metadata": {},
      "outputs": [],
      "source": [
        "# enqueue(), dequeue() 모두 O(1)"
      ]
    },
    {
      "cell_type": "markdown",
      "metadata": {},
      "source": [
        "## 연습문제 8번: Deque 클래스 구현"
      ]
    },
    {
      "cell_type": "code",
      "execution_count": null,
      "metadata": {},
      "outputs": [],
      "source": [
        "class Deque(ListQueue):\n",
        "    def addFront(self, x):\n",
        "        self._queue.insert(0, x)\n",
        "\n",
        "    def deleteRear(self):\n",
        "        return self._queue.pop()\n",
        "\n",
        "    def deleteFront(self):\n",
        "        return self._queue.pop(0)\n",
        "\n",
        "    def addRear(self, x):\n",
        "        self._queue.append(x)"
      ]
    }
  ],
  "metadata": {
    "kernelspec": {
      "display_name": "Python 3",
      "language": "python",
      "name": "python3"
    },
    "language_info": {
      "name": "python"
    }
  },
  "nbformat": 4,
  "nbformat_minor": 2
}
